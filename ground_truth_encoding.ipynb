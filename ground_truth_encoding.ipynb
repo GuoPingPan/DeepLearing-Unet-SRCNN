{
 "cells": [
  {
   "cell_type": "markdown",
   "id": "123a05f0",
   "metadata": {},
   "source": [
    "# Ground_Truth_Encoding"
   ]
  },
  {
   "cell_type": "markdown",
   "id": "5cb9301e",
   "metadata": {},
   "source": [
    "**脚本介绍**:\n",
    "\n",
    "    该文件主要是实现 GroundTruth 进行 Encoding 得到 Label 目标图像\n",
    "    \n",
    "    共22类：\n",
    "        - 将void类别转为 label 255\n",
    "        - 其他从 0 开始进行编码"
   ]
  },
  {
   "cell_type": "markdown",
   "id": "469d3acd",
   "metadata": {},
   "source": [
    "## import module"
   ]
  },
  {
   "cell_type": "code",
   "execution_count": 13,
   "id": "4a604aed",
   "metadata": {},
   "outputs": [],
   "source": [
    "import os.path\n",
    "from tqdm import tqdm\n",
    "import numpy as np\n",
    "from PIL import Image\n",
    "import glob\n",
    "import cv2\n",
    "import matplotlib.pyplot as plt"
   ]
  },
  {
   "cell_type": "markdown",
   "id": "6c1ecd6e",
   "metadata": {},
   "source": [
    "## GroundTruth文件夹"
   ]
  },
  {
   "cell_type": "code",
   "execution_count": 14,
   "id": "aa64f0fd",
   "metadata": {},
   "outputs": [],
   "source": [
    "gt_dir = 'Dataset/msrc2_seg/gt'\n",
    "gt_path = glob.glob1(gt_dir,'*.bmp')"
   ]
  },
  {
   "cell_type": "markdown",
   "id": "17c71ba5",
   "metadata": {},
   "source": [
    "## Test"
   ]
  },
  {
   "cell_type": "code",
   "execution_count": 15,
   "id": "80be1b82",
   "metadata": {},
   "outputs": [],
   "source": [
    "# print(gt_path)\n",
    "# img = cv2.imread(os.path.join(gt_dir,gt_path[0]))\n",
    "# print(gt_path[0])\n",
    "# img = cv2.cvtColor(img,cv2.COLOR_BGR2RGB)\n",
    "# plt.imshow(img)\n",
    "# plt.show()"
   ]
  },
  {
   "cell_type": "markdown",
   "id": "a81df82f",
   "metadata": {},
   "source": [
    "## Color_Map对应的22种类别"
   ]
  },
  {
   "cell_type": "code",
   "execution_count": 16,
   "id": "1cf75a3f",
   "metadata": {},
   "outputs": [],
   "source": [
    "color_map=[[0, 0, 0],[128, 0, 0],[0, 128, 0],[128, 128, 0],\n",
    "[0, 0, 128],[0, 128, 128],[128, 128, 128],[192, 0, 0],\n",
    "[64, 128, 0],[192, 128, 0],[64, 0, 128],[192, 0, 128],\n",
    "[64, 128, 128],[192, 128, 128],[0, 64, 0],[128, 64, 0],\n",
    "[0, 192, 0],[128, 64, 128],[0, 192, 128],[128, 192, 128],\n",
    "[64, 64, 0],[192, 64, 0]]"
   ]
  },
  {
   "cell_type": "markdown",
   "id": "d4c50c67",
   "metadata": {},
   "source": [
    "## GroundTruth_Label"
   ]
  },
  {
   "cell_type": "code",
   "execution_count": 17,
   "id": "6da2b22a",
   "metadata": {},
   "outputs": [],
   "source": [
    "gt_label_dir = 'Dataset/msrc2_seg/gt_label'"
   ]
  },
  {
   "cell_type": "code",
   "execution_count": 12,
   "id": "fc3414c6",
   "metadata": {},
   "outputs": [],
   "source": [
    "if not os.path.exists(gt_label_dir):\n",
    "    os.makedirs(gt_label_dir)"
   ]
  },
  {
   "cell_type": "code",
   "execution_count": 20,
   "id": "0ae65512",
   "metadata": {},
   "outputs": [],
   "source": [
    "def encoding():\n",
    "    '''\n",
    "    Tips:\n",
    "        22个类别：\n",
    "            - 对于 void(color = [0,0,0])转为 255\n",
    "            \n",
    "            - 其余对应color_map中从 0 开始编码\n",
    "    \n",
    "    '''\n",
    "    for i,gt_img in enumerate(tqdm(gt_path)):\n",
    "        img = cv2.imread(os.path.join(gt_dir,gt_img))\n",
    "        img = cv2.cvtColor(img, cv2.COLOR_BGR2RGB)\n",
    "        h,w = img.shape[:-1]\n",
    "        mask = np.zeros((h,w),dtype=np.uint8)\n",
    "\n",
    "        for j,color in enumerate(color_map):\n",
    "            mask_rgb = (img==color)\n",
    "            mask = mask + (mask_rgb[:,:,0]*mask_rgb[:,:,1]*mask_rgb[:,:,2])*j\n",
    "            \n",
    "    '''\n",
    "        这里本来是打算加强背景和其他元素的区分度来增大label标签的，不适合设计Loss\n",
    "    '''           \n",
    "#             if j == 0:# 对于void直接赋值为255\n",
    "#                 mask = mask + (mask_rgb[:,:,0]*mask_rgb[:,:,1]*mask_rgb[:,:,2])*0\n",
    "#             else:# 其他的从 0 开始编码\n",
    "#                 mask = mask + (mask_rgb[:,:,0]*mask_rgb[:,:,1]*mask_rgb[:,:,2])*j\n",
    "    \n",
    "    '''\n",
    "        for show\n",
    "    '''\n",
    "        # fig,ax = plt.subplots(1,2,dpi=200)\n",
    "        # ax[0].imshow(img)\n",
    "        # ax[1].imshow(mask)\n",
    "        # plt.show()\n",
    "        # print(mask.shape)\n",
    "        # break\n",
    "        \n",
    "        cv2.imwrite(os.path.join(gt_label_dir,gt_path[i]),mask)"
   ]
  },
  {
   "cell_type": "code",
   "execution_count": 19,
   "id": "42d95dad",
   "metadata": {},
   "outputs": [],
   "source": [
    "# encoding()"
   ]
  },
  {
   "cell_type": "markdown",
   "id": "661da157",
   "metadata": {},
   "source": [
    "## Check The Encoding if Successful"
   ]
  },
  {
   "cell_type": "code",
   "execution_count": 23,
   "id": "84417eb0",
   "metadata": {},
   "outputs": [
    {
     "name": "stdout",
     "output_type": "stream",
     "text": [
      "13_10_s_GT.bmp\n",
      "(213, 320)\n"
     ]
    },
    {
     "data": {
      "image/png": "[encoded data removed]",
      "text/plain": [
       "<Figure size 432x288 with 1 Axes>"
      ]
     },
     "metadata": {
      "needs_background": "light"
     },
     "output_type": "display_data"
    }
   ],
   "source": [
    "index = np.random.randint(500)\n",
    "img2 = cv2.imread(os.path.join(gt_label_dir,gt_path[index]),cv2.IMREAD_GRAYSCALE)\n",
    "\n",
    "print(gt_path[index])\n",
    "print(img2.shape)\n",
    "\n",
    "plt.imshow(img2)\n",
    "plt.show()"
   ]
  }
 ],
 "metadata": {
  "kernelspec": {
   "display_name": "torch1.10",
   "language": "python",
   "name": "torch1.10"
  },
  "language_info": {
   "codemirror_mode": {
    "name": "ipython",
    "version": 3
   },
   "file_extension": ".py",
   "mimetype": "text/x-python",
   "name": "python",
   "nbconvert_exporter": "python",
   "pygments_lexer": "ipython3",
   "version": "3.8.12"
  },
  "toc": {
   "base_numbering": 1,
   "nav_menu": {},
   "number_sections": true,
   "sideBar": true,
   "skip_h1_title": false,
   "title_cell": "Table of Contents",
   "title_sidebar": "Contents",
   "toc_cell": false,
   "toc_position": {},
   "toc_section_display": true,
   "toc_window_display": false
  }
 },
 "nbformat": 4,
 "nbformat_minor": 5
}
